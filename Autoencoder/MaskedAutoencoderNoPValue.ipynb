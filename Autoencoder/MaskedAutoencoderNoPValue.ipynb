﻿{
  "cells": [
    {
      "cell_type": "code",
      "execution_count": 1,
      "id": "a5c79814",
      "metadata": {
        "colab": {
          "base_uri": "https://localhost:8080/"
        },
        "executionInfo": {
          "elapsed": 29590,
          "status": "ok",
          "timestamp": 1731116384210,
          "user": {
            "displayName": "JUN YU CHEN",
            "userId": "01265597751024332928"
          },
          "user_tz": 480
        },
        "id": "a5c79814",
        "outputId": "c2dd8ccc-b6e1-48b6-f902-c52a2135043d"
      },
      "outputs": [],
      "source": [
        "import numpy as np\n",
        "import pandas as pd\n",
        "import torchvision.transforms as transforms\n",
        "import time\n",
        "import random\n",
        "import os\n",
        "import cv2\n",
        "import matplotlib.pyplot as plt\n",
        "import torch\n",
        "import torch.nn as nn\n",
        "import torch.optim as optim\n",
        "import torch.nn.functional as F\n",
        "from torch import nn, optim\n",
        "from torch.utils.data import Dataset, DataLoader\n",
        "from torch.optim import lr_scheduler\n",
        "import torch.optim.lr_scheduler as lr_scheduler\n",
        "from torch.nn import functional as F\n",
        "import torchvision\n",
        "from torchvision import transforms, datasets, models, utils\n",
        "import torchvision.transforms as transforms\n",
        "from PIL import Image\n",
        "from sklearn.model_selection import train_test_split\n",
        "from skimage import io, transform\n",
        "from skimage.transform import AffineTransform, warp\n",
        "from tqdm import tqdm\n",
        "import albumentations as A\n",
        "from torch.cuda.amp import autocast, GradScaler\n",
        "from glob import glob\n",
        "from matplotlib import pyplot as plt\n",
        "from torch.utils.data import DataLoader, random_split\n",
        "from tqdm import tqdm_notebook\n",
        "import csv\n",
        "\n",
        "device = torch.device('cuda')\n",
        "\n",
        "def epoch_time(start_time, end_time):\n",
        "    elapsed_time = end_time - start_time\n",
        "    elapsed_mins = int(elapsed_time / 60)\n",
        "    elapsed_secs = int(elapsed_time - (elapsed_mins * 60))\n",
        "    return elapsed_mins, elapsed_secs\n",
        "\n",
        "def seeding(seed):\n",
        "    random.seed(seed)\n",
        "    os.environ[\"PYTHONHASHSEED\"] = str(seed)\n",
        "    np.random.seed(seed)\n",
        "    torch.manual_seed(seed)\n",
        "    torch.cuda.manual_seed(seed)\n",
        "    torch.backends.cudnn.deterministic = True\n",
        "device = torch.device('cuda')\n",
        "\n",
        "def epoch_time(start_time, end_time):\n",
        "    elapsed_time = end_time - start_time\n",
        "    elapsed_mins = int(elapsed_time / 60)\n",
        "    elapsed_secs = int(elapsed_time - (elapsed_mins * 60))\n",
        "    return elapsed_mins, elapsed_secs\n",
        "\n",
        "def seeding(seed):\n",
        "    random.seed(seed)\n",
        "    os.environ[\"PYTHONHASHSEED\"] = str(seed)\n",
        "    np.random.seed(seed)\n",
        "    torch.manual_seed(seed)\n",
        "    torch.cuda.manual_seed(seed)\n",
        "    torch.backends.cudnn.deterministic = True\n"
      ]
    },
    {
      "cell_type": "code",
      "execution_count": 2,
      "id": "c22248a3",
      "metadata": {},
      "outputs": [],
      "source": [
        "class VisualField(Dataset):\n",
        "    def __init__(self,csv_file):\n",
        "        self.annotations = pd.read_csv(csv_file)\n",
        "\n",
        "    def __len__(self):\n",
        "        return len(self.annotations)\n",
        "\n",
        "    def __getitem__(self,index):\n",
        "        probability = []\n",
        "        td = []\n",
        "        for i in range(12, 66):\n",
        "            if i != 37 and i != 46:\n",
        "                td.append(self.annotations.iloc[index, i])\n",
        "\n",
        "        td = np.array(td)\n",
        "\n",
        "        td = td[~np.isnan(td)]\n",
        "\n",
        "        newtd = np.copy(td)\n",
        "\n",
        "        indices = np.random.choice(np.arange(52), size=10, replace=False)\n",
        "\n",
        "        newtd[indices] = 0\n",
        "\n",
        "        td = torch.tensor(td)\n",
        "\n",
        "        return (torch.tensor(newtd),td)"
      ]
    },
    {
      "cell_type": "code",
      "execution_count": null,
      "id": "1296b6f7",
      "metadata": {
        "executionInfo": {
          "elapsed": 4,
          "status": "ok",
          "timestamp": 1731116384211,
          "user": {
            "displayName": "JUN YU CHEN",
            "userId": "01265597751024332928"
          },
          "user_tz": 480
        },
        "id": "1296b6f7"
      },
      "outputs": [],
      "source": [
        "class VisualField(Dataset):\n",
        "    def __init__(self,csv_file):\n",
        "        self.annotations = pd.read_csv(csv_file)\n",
        "\n",
        "    def __len__(self):\n",
        "        return len(self.annotations)\n",
        "\n",
        "    def __getitem__(self,index):\n",
        "        probability = []\n",
        "        td = []\n",
        "        for i in range(12, 66):\n",
        "          \n",
        "          # Ignore the blind spots\n",
        "          if i != 37 and i != 46:\n",
        "              td.append(self.annotations.iloc[index, i])\n",
        "\n",
        "        td = np.array(td)\n",
        "\n",
        "        td = td[~np.isnan(td)]\n",
        "\n",
        "        newtd = np.copy(td)\n",
        "\n",
        "        # Apply the random mask\n",
        "        indices = np.random.choice(np.arange(52), size=20, replace=False)\n",
        "\n",
        "        newtd[indices] = 0\n",
        "\n",
        "\n",
        "        td = torch.tensor(td)\n",
        "\n",
        "        return (torch.tensor(newtd),td)"
      ]
    },
    {
      "cell_type": "code",
      "execution_count": 4,
      "id": "df002989",
      "metadata": {
        "colab": {
          "base_uri": "https://localhost:8080/"
        },
        "executionInfo": {
          "elapsed": 58247,
          "status": "ok",
          "timestamp": 1731116499914,
          "user": {
            "displayName": "JUN YU CHEN",
            "userId": "01265597751024332928"
          },
          "user_tz": 480
        },
        "id": "df002989",
        "outputId": "bd36e84b-7e0e-4d03-e868-2ff88f3b416f"
      },
      "outputs": [
        {
          "name": "stderr",
          "output_type": "stream",
          "text": [
            "C:\\Users\\84522\\AppData\\Local\\Temp\\ipykernel_23548\\318963581.py:11: DeprecationWarning: DataFrameGroupBy.apply operated on the grouping columns. This behavior is deprecated, and in a future version of pandas the grouping columns will be excluded from the operation. Either pass `include_groups=False` to exclude the groupings or explicitly select the grouping columns after groupby to silence this warning.\n",
            "  train_data = simulationData.groupby('simulation', group_keys=False).apply(lambda x: x.sample(frac=0.8, random_state=42))\n"
          ]
        }
      ],
      "source": [
        "seed = 42\n",
        "random.seed(seed)\n",
        "torch.manual_seed(seed)\n",
        "\n",
        "N = \"Fast\"\n",
        "\n",
        "path = \"D:/Research/Visual Field/Simulation/Data\"\n",
        "\n",
        "simulationData = pd.read_csv(f\"{path}/{N}P.csv\")\n",
        "\n",
        "train_data = simulationData.groupby('simulation', group_keys=False).apply(lambda x: x.sample(frac=0.8, random_state=42))\n",
        "val_data = simulationData.drop(train_data.index)\n",
        "\n",
        "simulationData.to_csv(f\"{path}/simulationData.csv\", index=False)\n",
        "train_data.to_csv(f\"{path}/simulation_train.csv\", index=False)\n",
        "val_data.to_csv(f\"{path}/simulation_val.csv\", index=False)\n",
        "\n",
        "dataset_sim = VisualField(csv_file=f\"{path}/simulationData.csv\")\n",
        "dataset_train = VisualField(csv_file=f\"{path}/simulation_train.csv\")\n",
        "dataset_val = VisualField(csv_file=f\"{path}/simulation_val.csv\")\n",
        "\n",
        "batch_size =  64\n",
        "data_loader = DataLoader(dataset_sim, batch_size=batch_size,shuffle = False)\n",
        "train_loader = DataLoader(dataset_train, batch_size=batch_size, shuffle=True)\n",
        "val_loader = DataLoader(dataset_val, batch_size=batch_size,shuffle = False)"
      ]
    },
    {
      "cell_type": "code",
      "execution_count": 5,
      "id": "a4724a3c",
      "metadata": {
        "colab": {
          "base_uri": "https://localhost:8080/"
        },
        "executionInfo": {
          "elapsed": 1010,
          "status": "ok",
          "timestamp": 1731128499514,
          "user": {
            "displayName": "JUN YU CHEN",
            "userId": "01265597751024332928"
          },
          "user_tz": 480
        },
        "id": "a4724a3c",
        "outputId": "3ab6567c-296f-4c16-ecb7-c623d5b84768"
      },
      "outputs": [],
      "source": [
        "class VFAutoencoder(nn.Module):\n",
        "    def __init__(self):\n",
        "        super(VFAutoencoder, self).__init__()\n",
        "        self.e1 = nn.Linear(52, 32)\n",
        "        self.e2 = nn.Linear(32, 16)\n",
        "        self.e3 = nn.Linear(16, 16)\n",
        "        self.d1 = nn.Linear(16, 32)\n",
        "        self.d2 = nn.Linear(32, 52)\n",
        "\n",
        "        self.relu = nn.ReLU()\n",
        "\n",
        "    def forward(self, TD):\n",
        "        combined = TD\n",
        "\n",
        "        encoded1 = self.relu(self.e1(combined))\n",
        "        encoded2 = self.relu(self.e2(encoded1))\n",
        "        encoded3 = self.relu(self.e3(encoded2))\n",
        "\n",
        "        decoded1 = self.relu(self.d1(encoded3))\n",
        "        decoded2 = self.d2(decoded1)\n",
        "\n",
        "        return decoded2\n",
        "\n",
        "batchsize = 64\n",
        "input_size = 52\n",
        "TD = torch.randn(batchsize, input_size)\n",
        "model = VFAutoencoder()\n",
        "output = model(TD)\n"
      ]
    },
    {
      "cell_type": "code",
      "execution_count": 6,
      "id": "28fb32c4",
      "metadata": {
        "id": "28fb32c4"
      },
      "outputs": [],
      "source": [
        "def train2(model, loader, optimizer, device):\n",
        "        c = 1\n",
        "        epoch_loss = 0.0\n",
        "        model.train()\n",
        "\n",
        "        with tqdm_notebook(total=len(loader), desc='Training', leave=False) as pbar:\n",
        "            for (inputTD,TD) in loader:\n",
        "                TD = TD.to(device).float()\n",
        "                inputTD = inputTD.to(device).float()\n",
        "\n",
        "                optimizer.zero_grad()\n",
        "                pred = model(inputTD)\n",
        "\n",
        "                loss = F.mse_loss(pred, TD)\n",
        "\n",
        "                loss.backward()\n",
        "                optimizer.step()\n",
        "                epoch_loss += loss.item()\n",
        "                torch.cuda.empty_cache()\n",
        "\n",
        "                pbar.set_postfix({'Loss': loss.item()})\n",
        "                pbar.update(1)\n",
        "\n",
        "        epoch_loss = epoch_loss / len(loader)\n",
        "\n",
        "        return epoch_loss\n",
        "\n",
        "\n",
        "\n",
        "def evaluate2(model, loader, optimizer, device):\n",
        "    epoch_loss = 0.0\n",
        "    model.eval()\n",
        "\n",
        "    with torch.no_grad():\n",
        "        for (inputTD,TD) in loader:\n",
        "\n",
        "            TD = TD.to(device).float()\n",
        "            inputTD = inputTD.to(device).float()\n",
        "\n",
        "            optimizer.zero_grad()\n",
        "            pred = model(inputTD)\n",
        "\n",
        "            loss= F.mse_loss(pred, TD)\n",
        "\n",
        "            epoch_loss += loss.item()\n",
        "            torch.cuda.empty_cache()\n",
        "\n",
        "        epoch_loss = epoch_loss/len(loader)\n",
        "    return epoch_loss"
      ]
    },
    {
      "cell_type": "code",
      "execution_count": 11,
      "id": "66eaffeb",
      "metadata": {
        "colab": {
          "base_uri": "https://localhost:8080/",
          "height": 1000,
          "referenced_widgets": [
            "ced62bbe6e30408f9aa69af89f48556a",
            "22b88d914d4b4653b17db63a00721cf7",
            "e3aa2801a45b4f1386d28aa36f0fc75a",
            "e943eb5301cb4641b32ecdd5c2ae1056",
            "892f9cee7e014ec087e44b9acbc38bef",
            "6ca8a094219942f6b2c7e2180a3ed6de",
            "4bd50298ee7e47f1a585ef8e9e8800e6",
            "6d4d897d8710419ca7dca0414a955e13",
            "3a6f6d86cbf94c07b2889de663d1aa94",
            "50c7f4141b1f4401bec456ae29f9f0c6",
            "d23daa27cd2340a8846ad17951f71e50",
            "2599c08ba2604aeea7b9458b9b55071e",
            "178d1be2a66e4542a4c555aa5ea71026",
            "d3709686d27940d19b0a5b35c6ee5926",
            "90b221c041b84d4b8c5065937b61950a",
            "1f424998ebc3483e8d352bae5f91c1a5",
            "07f8a27b870a40d486e2676eacda94ba",
            "39f6cb2cdaf249a983cd13e0c969f441",
            "3bf34484b1d7441c9136cb845dbf824e",
            "07d435c0606b4b76bcb0322c983aba4f",
            "273a91595dea4dec895192957968f2c3",
            "b5d9626fbb5840439324dd4e61461e80",
            "1513e7849d1048c6a6f5a14a8b61028a",
            "583d9113fed24088ae70215799338287",
            "d94766d34ce74678a4ea53c943df904e",
            "1823d632377a4ff38b0712d9a0faee05",
            "9697179a85984cc6b9ec19641bfbeddf",
            "c0392441ba6d4224b0be5a7242e548dd",
            "b5ece90728a248709508bc0fd2ed34c4",
            "f6fa2fa99746401a803b307290a76283",
            "87ae37f768ad4042bf66844ac25641bd",
            "4b02f52090514b18ab48c82e82cd3443",
            "0f060a07d68443b7b9100a09ff92f023",
            "9edfe6449aee4c9e9bb1d1a4f90f1f1d",
            "101c2038f9914c92b102f81269873e26",
            "89063c12b77d44a692000a15657c14a3",
            "9615caf03b424e6bb1f7a3e22998cf47",
            "34fbe2aef24046bf98935ce61b8b6c8f",
            "f671119f7f53432089982642403e09d1",
            "73e87ab096df4001919ccb60b8f8f4ce",
            "9e11646e90c94d0b98f2bfe0f95bcbe6",
            "bfae8ef1153740b39ec701600c875a28",
            "ad1e64363ee54e0d97a25976244f760a",
            "30a7e0fc6dd449bd9badc4df41738db7",
            "8b5946688a724a189a944d3358753d5e",
            "158efd50c36848ff91581e0fa019087a",
            "336ad28110a24996b32d3a19db13a20f",
            "d12c04e8fcc34175b7d8bedbad2a20b6",
            "ad90385ea32446b381055f0a29926f99",
            "d99cd91e3228439aaa1dad503849686b",
            "72fbbdd1d7094b228b4028efba953cd6",
            "c4c40f9ea11d44e5bcf1a5649674e032",
            "54c5792df8fe4331aa35e257d5831e48",
            "af4e0094f9574f5bb5182f2b486fe247",
            "230f82b128304135965f38e1fe5a9edb",
            "8f8cd6319fd64159ae272ba8c3ad995e",
            "a70b2ccdb46f4879b5317b066c78d08c",
            "8883f557a23a4ee8893675fe3d33c8db",
            "809e9efc00074d6ab931bc988eb99387",
            "aadff87bf43c4d7c8d5561ad0cbac967",
            "963878fc1c054c4daaf5fa704b52d0ea",
            "b0a96e6dcea949e18e32b7ea93230c20",
            "f8e524f403ad453e8f8d06cbaf90c0ee",
            "ec983c5e23c0461f9b26b32d8ea4c7dc",
            "a467d70bdd974250b6a52418b19c6af9",
            "b643ae9e1d9249089689aa343b722bbf",
            "8c9544e09ea24ccf81953d90f7216d03",
            "c0abbda94ccd4ff0aea4b2655d528999",
            "388c124ab428463d952183a9d8703367",
            "36dea23891f64b8cbad06dae1dfc6070",
            "470b110ad05d482f8869010e311e64c6",
            "8d968545475d437ba9efb026f63dcf8a",
            "0a8d9eef56ee4e91a47c0a4990c2d7fc",
            "42b11bfb9f88405f90f6cb4ffb25aefa",
            "c1d244c16cf3485fb32bab00e424e876",
            "3e7484e3d002474d9c1a6b736e866045",
            "3cc5875e41854f2a8bf5ff9b46b6db62",
            "ddbeba708a414d34966dc70662f4acf1",
            "a9b2ff058a3947689724ee4032124bd0",
            "23318830e5004503aae01631c3c5143e",
            "4dba7136081c4921b305c10f111e6ce3",
            "bfbac048e7bd45bb9744a90c0ee371be",
            "4d0b22e98b794ac58b108e3c6d0e8d60",
            "15a80e976eab4681a87653d73500520b",
            "5e69ecdeb158489ba16bcb1a58a47062",
            "37f79f16c4eb4615b347cc129e4b93b8",
            "7995af5a8f86422da1ec579e7a1eec84",
            "061e0b725d884a7cb72826df62fe8ff8",
            "79d0c15eb25545f6a20938fff3c3ea0d",
            "379b7b2c978c4d9e832ce38ee07bfb5d",
            "b0320c0a11f0484ea924bbbdf4fc8933",
            "e6bef5ef33d54ce8bb585dff906745e4",
            "870c70d6132b40bebcd2cc3682e6790d",
            "ccc0a55ed32e464c9b32e924e1cbbae0",
            "8313ead9b6e247cbb1483337ea4415ec",
            "22bd3e981657439eb40a183875687662",
            "2782df0f1e3a488aad8962f87cb92bd1",
            "250fbadd1e5849dca890425f9ded8a07",
            "8be8850c1a0348778b9bd8d66dfbd5b2",
            "4db2380fb337457886329fb59321fdbf",
            "4406237bb7074f8aa7a15ea7fb8aedd2",
            "06a26f42d85746cf9809293664203c5f",
            "c0bbc4cd806d4a5f84b1d719857cf85a",
            "24f1a9f5e56f40519f60e38f67766426",
            "8880b834400e4141a9a8507ead27e218",
            "d1d656a1fc5f47a385ec2fe8a7eafc14",
            "e708e7bf456b4733bade5552edf31e47",
            "ceeb029a8f2f4aa19c9b3607238edc82",
            "1362a491c7484b83b8fecce231aca30a",
            "51b3c3d73a8f4397a16bb8f3c52381de",
            "c962fda4a6e34f25bdb8d9d561254b54",
            "e7418844eceb49c697e72eb1dab17368",
            "a0c8612dc2354239936690f64eb3d8e6",
            "581ef8ce200244b7b91621cd344088a4",
            "f93eca0fa57b44fba6ab33e61062e3ff",
            "e6d30055e7404a8d9e17600ef8dcf7d6",
            "81e03e43968848c5a27226e1009835d9",
            "b84a3a7b383241ecabfa35723c635fef",
            "89a7a46cf3bb44e2af076d454a744a71",
            "5593211e234945a8ab8ee69dc368931c",
            "79be2860a7634b81907ee28083906fa5",
            "eb41fb02909249f3a55dc5267063e44d",
            "a9a7b2f1426942bea5b9293754010fa7",
            "8eae440e2ddd4d49b65d5f8c49078a12",
            "62f89c1f31d14eda95f911a4e53d05e6",
            "c03e5852bc5d4a309270b336586e66b4",
            "dbbd236c326143699b4a28ee18ad0336",
            "c78727b266d548b3b1d09a85c4fd606b",
            "0d002a8b15664740b8ccd802f77a57b1",
            "82574e413a414987b7904cd3c26a8763",
            "4787b395f0b242fc98bd69221c23d59c",
            "37636757e9ac4e1e8ec9dc7d4e9d977d",
            "ec4733e8f9a44b9eb849366159abd6f3",
            "0a3eda281d574d26b70c5b8d78ac530c",
            "7ba54a4c0f0446abb8af67ef70658af4",
            "f5cf9decf2cb4ef6b933faa5aa6ff923",
            "c5814a4d72884a5981c00076ef7d67e6",
            "cd3be32d3c4645ce848b66a3374e8ecd",
            "5a7c84de908d4ccf8cdfde42ebba1605",
            "7beb0cb74f304a6d975091e97a776d10",
            "f533077c9dfa4373920773527b5d9875",
            "4ab1d9aa176544099c8d094012973235",
            "7c5086283c4a401ea7461b39845ce16d"
          ]
        },
        "executionInfo": {
          "elapsed": 3952303,
          "status": "error",
          "timestamp": 1731132453159,
          "user": {
            "displayName": "JUN YU CHEN",
            "userId": "01265597751024332928"
          },
          "user_tz": 480
        },
        "id": "66eaffeb",
        "outputId": "e9661d7f-a340-4ae0-be0c-e2902ef28548"
      },
      "outputs": [],
      "source": [
        "def TrainModel2(numE, lr, seed):\n",
        "\n",
        "    device = torch.device('cuda')\n",
        "    model = VFAutoencoder()\n",
        "\n",
        "    model = model.to(device)\n",
        "\n",
        "    num_epochs = numE\n",
        "    learning_rate = lr\n",
        "    checkpoint_path = f\"{path}/M_no_P_modified.pth\"\n",
        "\n",
        "    optimizer = torch.optim.Adam(model.parameters(), lr=learning_rate)\n",
        "    scheduler = lr_scheduler.ReduceLROnPlateau(optimizer, mode='min', factor=0.1, patience=5, verbose=True)\n",
        "    lowest_loss = 1000000000000000\n",
        "    patience = 0\n",
        "\n",
        "    for epoch in range(num_epochs):\n",
        "        start_time = time.time()\n",
        "        train_loss = train2(model, train_loader, optimizer, device)\n",
        "        valid_loss = evaluate2(model, val_loader, optimizer, device)\n",
        "        scheduler.step(valid_loss)  # Update learning rate based on validation loss\n",
        "\n",
        "        \n",
        "        if valid_loss < lowest_loss:\n",
        "            data_str = f\"Valid Loss decreased from {lowest_loss:2.4f} to {valid_loss:2.4f}. Saving checkpoint: {checkpoint_path}\"\n",
        "            torch.save(model.state_dict(), checkpoint_path)\n",
        "\n",
        "        if epoch % 10 == 0:\n",
        "            end_time = time.time()\n",
        "            epoch_mins, epoch_secs = epoch_time(start_time, end_time)\n",
        "            data_str = f'Epoch: {epoch+1:02} | Epoch Time: {epoch_mins}m {epoch_secs}s\\n'\n",
        "            data_str += f'\\tTrain Loss: {train_loss:.3f}\\n'\n",
        "            data_str += f'\\t Val. Loss: {valid_loss:.3f}\\n'\n",
        "            print(data_str)\n",
        "\n",
        "        patience = patience + 1\n",
        "        if valid_loss < lowest_loss:\n",
        "            lowest_loss = valid_loss\n",
        "            patience = 0\n",
        "        if patience == 20:\n",
        "            break"
      ]
    },
    {
      "cell_type": "code",
      "execution_count": 12,
      "id": "21141fb3",
      "metadata": {},
      "outputs": [
        {
          "name": "stderr",
          "output_type": "stream",
          "text": [
            "C:\\Users\\84522\\AppData\\Local\\Temp\\ipykernel_23548\\3915033780.py:6: TqdmDeprecationWarning: This function will be removed in tqdm==5.0.0\n",
            "Please use `tqdm.notebook.tqdm` instead of `tqdm.tqdm_notebook`\n",
            "  with tqdm_notebook(total=len(loader), desc='Training', leave=False) as pbar:\n"
          ]
        },
        {
          "data": {
            "application/vnd.jupyter.widget-view+json": {
              "model_id": "d91029778af940d58f3bf420e1176725",
              "version_major": 2,
              "version_minor": 0
            },
            "text/plain": [
              "Training:   0%|          | 0/200 [00:00<?, ?it/s]"
            ]
          },
          "metadata": {},
          "output_type": "display_data"
        },
        {
          "name": "stdout",
          "output_type": "stream",
          "text": [
            "Epoch: 01 | Epoch Time: 0m 18s\n",
            "\tTrain Loss: 136.964\n",
            "\t Val. Loss: 53.196\n",
            "\n"
          ]
        },
        {
          "data": {
            "application/vnd.jupyter.widget-view+json": {
              "model_id": "5d7f9a0b22184b359db44e71af895da6",
              "version_major": 2,
              "version_minor": 0
            },
            "text/plain": [
              "Training:   0%|          | 0/200 [00:00<?, ?it/s]"
            ]
          },
          "metadata": {},
          "output_type": "display_data"
        },
        {
          "data": {
            "application/vnd.jupyter.widget-view+json": {
              "model_id": "e27225d656e645c8bf6ca38acec013c3",
              "version_major": 2,
              "version_minor": 0
            },
            "text/plain": [
              "Training:   0%|          | 0/200 [00:00<?, ?it/s]"
            ]
          },
          "metadata": {},
          "output_type": "display_data"
        },
        {
          "data": {
            "application/vnd.jupyter.widget-view+json": {
              "model_id": "91b2ca7c7eb44dc1be3c08d6315b1ca0",
              "version_major": 2,
              "version_minor": 0
            },
            "text/plain": [
              "Training:   0%|          | 0/200 [00:00<?, ?it/s]"
            ]
          },
          "metadata": {},
          "output_type": "display_data"
        },
        {
          "data": {
            "application/vnd.jupyter.widget-view+json": {
              "model_id": "edfa3869c6674e16b53437a657e3be38",
              "version_major": 2,
              "version_minor": 0
            },
            "text/plain": [
              "Training:   0%|          | 0/200 [00:00<?, ?it/s]"
            ]
          },
          "metadata": {},
          "output_type": "display_data"
        },
        {
          "data": {
            "application/vnd.jupyter.widget-view+json": {
              "model_id": "9569f36968c14acab0269ea14ef2ed06",
              "version_major": 2,
              "version_minor": 0
            },
            "text/plain": [
              "Training:   0%|          | 0/200 [00:00<?, ?it/s]"
            ]
          },
          "metadata": {},
          "output_type": "display_data"
        },
        {
          "data": {
            "application/vnd.jupyter.widget-view+json": {
              "model_id": "8be7a0d0e7db48668346466669bd64de",
              "version_major": 2,
              "version_minor": 0
            },
            "text/plain": [
              "Training:   0%|          | 0/200 [00:00<?, ?it/s]"
            ]
          },
          "metadata": {},
          "output_type": "display_data"
        },
        {
          "data": {
            "application/vnd.jupyter.widget-view+json": {
              "model_id": "ccf844cb919f48d8884e04308e2a3009",
              "version_major": 2,
              "version_minor": 0
            },
            "text/plain": [
              "Training:   0%|          | 0/200 [00:00<?, ?it/s]"
            ]
          },
          "metadata": {},
          "output_type": "display_data"
        },
        {
          "data": {
            "application/vnd.jupyter.widget-view+json": {
              "model_id": "2c783aed5bfa4d7ebe6804c38d270592",
              "version_major": 2,
              "version_minor": 0
            },
            "text/plain": [
              "Training:   0%|          | 0/200 [00:00<?, ?it/s]"
            ]
          },
          "metadata": {},
          "output_type": "display_data"
        },
        {
          "data": {
            "application/vnd.jupyter.widget-view+json": {
              "model_id": "a3ca52c0564e4ea184734f064c3039b0",
              "version_major": 2,
              "version_minor": 0
            },
            "text/plain": [
              "Training:   0%|          | 0/200 [00:00<?, ?it/s]"
            ]
          },
          "metadata": {},
          "output_type": "display_data"
        },
        {
          "data": {
            "application/vnd.jupyter.widget-view+json": {
              "model_id": "15bde750ca03486c8f12b97d3a565823",
              "version_major": 2,
              "version_minor": 0
            },
            "text/plain": [
              "Training:   0%|          | 0/200 [00:00<?, ?it/s]"
            ]
          },
          "metadata": {},
          "output_type": "display_data"
        },
        {
          "name": "stdout",
          "output_type": "stream",
          "text": [
            "Epoch: 11 | Epoch Time: 0m 18s\n",
            "\tTrain Loss: 42.727\n",
            "\t Val. Loss: 42.210\n",
            "\n"
          ]
        },
        {
          "data": {
            "application/vnd.jupyter.widget-view+json": {
              "model_id": "0853a9fabe61415aa8a306db056aef16",
              "version_major": 2,
              "version_minor": 0
            },
            "text/plain": [
              "Training:   0%|          | 0/200 [00:00<?, ?it/s]"
            ]
          },
          "metadata": {},
          "output_type": "display_data"
        },
        {
          "data": {
            "application/vnd.jupyter.widget-view+json": {
              "model_id": "11deaf13b0844b5cba8b848d3c5424a1",
              "version_major": 2,
              "version_minor": 0
            },
            "text/plain": [
              "Training:   0%|          | 0/200 [00:00<?, ?it/s]"
            ]
          },
          "metadata": {},
          "output_type": "display_data"
        },
        {
          "data": {
            "application/vnd.jupyter.widget-view+json": {
              "model_id": "54dc407db1bf42578aa46d6625a6ab39",
              "version_major": 2,
              "version_minor": 0
            },
            "text/plain": [
              "Training:   0%|          | 0/200 [00:00<?, ?it/s]"
            ]
          },
          "metadata": {},
          "output_type": "display_data"
        },
        {
          "data": {
            "application/vnd.jupyter.widget-view+json": {
              "model_id": "6492823719df44c087190db5cc90db05",
              "version_major": 2,
              "version_minor": 0
            },
            "text/plain": [
              "Training:   0%|          | 0/200 [00:00<?, ?it/s]"
            ]
          },
          "metadata": {},
          "output_type": "display_data"
        },
        {
          "data": {
            "application/vnd.jupyter.widget-view+json": {
              "model_id": "2b2d784667994fa9b5128c765dbc7785",
              "version_major": 2,
              "version_minor": 0
            },
            "text/plain": [
              "Training:   0%|          | 0/200 [00:00<?, ?it/s]"
            ]
          },
          "metadata": {},
          "output_type": "display_data"
        },
        {
          "data": {
            "application/vnd.jupyter.widget-view+json": {
              "model_id": "604d246b1c6c49afaf71d4d7a154d4ec",
              "version_major": 2,
              "version_minor": 0
            },
            "text/plain": [
              "Training:   0%|          | 0/200 [00:00<?, ?it/s]"
            ]
          },
          "metadata": {},
          "output_type": "display_data"
        },
        {
          "data": {
            "application/vnd.jupyter.widget-view+json": {
              "model_id": "d2aab6e7ef134b00b09d425aba6937c1",
              "version_major": 2,
              "version_minor": 0
            },
            "text/plain": [
              "Training:   0%|          | 0/200 [00:00<?, ?it/s]"
            ]
          },
          "metadata": {},
          "output_type": "display_data"
        },
        {
          "data": {
            "application/vnd.jupyter.widget-view+json": {
              "model_id": "051d360b4ac140e2a096b882f46fb75b",
              "version_major": 2,
              "version_minor": 0
            },
            "text/plain": [
              "Training:   0%|          | 0/200 [00:00<?, ?it/s]"
            ]
          },
          "metadata": {},
          "output_type": "display_data"
        },
        {
          "data": {
            "application/vnd.jupyter.widget-view+json": {
              "model_id": "c59824b3215b43c9a5aac93f1f0187ea",
              "version_major": 2,
              "version_minor": 0
            },
            "text/plain": [
              "Training:   0%|          | 0/200 [00:00<?, ?it/s]"
            ]
          },
          "metadata": {},
          "output_type": "display_data"
        },
        {
          "data": {
            "application/vnd.jupyter.widget-view+json": {
              "model_id": "00d4584860434dc38daf045ba3dae130",
              "version_major": 2,
              "version_minor": 0
            },
            "text/plain": [
              "Training:   0%|          | 0/200 [00:00<?, ?it/s]"
            ]
          },
          "metadata": {},
          "output_type": "display_data"
        },
        {
          "name": "stdout",
          "output_type": "stream",
          "text": [
            "Epoch: 21 | Epoch Time: 0m 12s\n",
            "\tTrain Loss: 41.275\n",
            "\t Val. Loss: 40.762\n",
            "\n"
          ]
        },
        {
          "data": {
            "application/vnd.jupyter.widget-view+json": {
              "model_id": "ed0a4d42f5864bb78c11f9062a6ac783",
              "version_major": 2,
              "version_minor": 0
            },
            "text/plain": [
              "Training:   0%|          | 0/200 [00:00<?, ?it/s]"
            ]
          },
          "metadata": {},
          "output_type": "display_data"
        },
        {
          "data": {
            "application/vnd.jupyter.widget-view+json": {
              "model_id": "35d84ff8657a43dcb4d6081e7cd118a7",
              "version_major": 2,
              "version_minor": 0
            },
            "text/plain": [
              "Training:   0%|          | 0/200 [00:00<?, ?it/s]"
            ]
          },
          "metadata": {},
          "output_type": "display_data"
        },
        {
          "data": {
            "application/vnd.jupyter.widget-view+json": {
              "model_id": "17f1a80ece91481ea4eea600f5a7305b",
              "version_major": 2,
              "version_minor": 0
            },
            "text/plain": [
              "Training:   0%|          | 0/200 [00:00<?, ?it/s]"
            ]
          },
          "metadata": {},
          "output_type": "display_data"
        },
        {
          "data": {
            "application/vnd.jupyter.widget-view+json": {
              "model_id": "085148a66d9543a6946e26a066fd9668",
              "version_major": 2,
              "version_minor": 0
            },
            "text/plain": [
              "Training:   0%|          | 0/200 [00:00<?, ?it/s]"
            ]
          },
          "metadata": {},
          "output_type": "display_data"
        },
        {
          "data": {
            "application/vnd.jupyter.widget-view+json": {
              "model_id": "b5b8ba6c8304402bbf58356656868e53",
              "version_major": 2,
              "version_minor": 0
            },
            "text/plain": [
              "Training:   0%|          | 0/200 [00:00<?, ?it/s]"
            ]
          },
          "metadata": {},
          "output_type": "display_data"
        },
        {
          "data": {
            "application/vnd.jupyter.widget-view+json": {
              "model_id": "f7e4c1d326ed482aa9c785c02c226522",
              "version_major": 2,
              "version_minor": 0
            },
            "text/plain": [
              "Training:   0%|          | 0/200 [00:00<?, ?it/s]"
            ]
          },
          "metadata": {},
          "output_type": "display_data"
        },
        {
          "data": {
            "application/vnd.jupyter.widget-view+json": {
              "model_id": "9a9dc413a194470cbc0febbf1c10ada1",
              "version_major": 2,
              "version_minor": 0
            },
            "text/plain": [
              "Training:   0%|          | 0/200 [00:00<?, ?it/s]"
            ]
          },
          "metadata": {},
          "output_type": "display_data"
        },
        {
          "data": {
            "application/vnd.jupyter.widget-view+json": {
              "model_id": "86fc8e84b0e34960ae112b26d4f6659a",
              "version_major": 2,
              "version_minor": 0
            },
            "text/plain": [
              "Training:   0%|          | 0/200 [00:00<?, ?it/s]"
            ]
          },
          "metadata": {},
          "output_type": "display_data"
        },
        {
          "data": {
            "application/vnd.jupyter.widget-view+json": {
              "model_id": "d69346476aaf4ac9ac70c70cac4735ca",
              "version_major": 2,
              "version_minor": 0
            },
            "text/plain": [
              "Training:   0%|          | 0/200 [00:00<?, ?it/s]"
            ]
          },
          "metadata": {},
          "output_type": "display_data"
        },
        {
          "data": {
            "application/vnd.jupyter.widget-view+json": {
              "model_id": "1e60ce16144940019d16a061a88ac5e0",
              "version_major": 2,
              "version_minor": 0
            },
            "text/plain": [
              "Training:   0%|          | 0/200 [00:00<?, ?it/s]"
            ]
          },
          "metadata": {},
          "output_type": "display_data"
        },
        {
          "name": "stdout",
          "output_type": "stream",
          "text": [
            "Epoch: 31 | Epoch Time: 0m 12s\n",
            "\tTrain Loss: 39.675\n",
            "\t Val. Loss: 39.058\n",
            "\n"
          ]
        },
        {
          "data": {
            "application/vnd.jupyter.widget-view+json": {
              "model_id": "48e7bfe50beb41e093252ec2f513c5f0",
              "version_major": 2,
              "version_minor": 0
            },
            "text/plain": [
              "Training:   0%|          | 0/200 [00:00<?, ?it/s]"
            ]
          },
          "metadata": {},
          "output_type": "display_data"
        },
        {
          "data": {
            "application/vnd.jupyter.widget-view+json": {
              "model_id": "0ffdfe8cede14a059bafc08a6bca675a",
              "version_major": 2,
              "version_minor": 0
            },
            "text/plain": [
              "Training:   0%|          | 0/200 [00:00<?, ?it/s]"
            ]
          },
          "metadata": {},
          "output_type": "display_data"
        },
        {
          "data": {
            "application/vnd.jupyter.widget-view+json": {
              "model_id": "a85fd16f0c6d4df0af2e3c0d52e85fb8",
              "version_major": 2,
              "version_minor": 0
            },
            "text/plain": [
              "Training:   0%|          | 0/200 [00:00<?, ?it/s]"
            ]
          },
          "metadata": {},
          "output_type": "display_data"
        },
        {
          "data": {
            "application/vnd.jupyter.widget-view+json": {
              "model_id": "08738c59d40a4487be659ab8ee0409f2",
              "version_major": 2,
              "version_minor": 0
            },
            "text/plain": [
              "Training:   0%|          | 0/200 [00:00<?, ?it/s]"
            ]
          },
          "metadata": {},
          "output_type": "display_data"
        },
        {
          "data": {
            "application/vnd.jupyter.widget-view+json": {
              "model_id": "3e5efb75d9e841a6ba97e1f84426c08e",
              "version_major": 2,
              "version_minor": 0
            },
            "text/plain": [
              "Training:   0%|          | 0/200 [00:00<?, ?it/s]"
            ]
          },
          "metadata": {},
          "output_type": "display_data"
        },
        {
          "data": {
            "application/vnd.jupyter.widget-view+json": {
              "model_id": "87ca9848880645d5b8707bee120be7b0",
              "version_major": 2,
              "version_minor": 0
            },
            "text/plain": [
              "Training:   0%|          | 0/200 [00:00<?, ?it/s]"
            ]
          },
          "metadata": {},
          "output_type": "display_data"
        },
        {
          "data": {
            "application/vnd.jupyter.widget-view+json": {
              "model_id": "4413ea06cdb944e08ce5745b51abc083",
              "version_major": 2,
              "version_minor": 0
            },
            "text/plain": [
              "Training:   0%|          | 0/200 [00:00<?, ?it/s]"
            ]
          },
          "metadata": {},
          "output_type": "display_data"
        },
        {
          "data": {
            "application/vnd.jupyter.widget-view+json": {
              "model_id": "9679e68801284c29b3d63a093230077d",
              "version_major": 2,
              "version_minor": 0
            },
            "text/plain": [
              "Training:   0%|          | 0/200 [00:00<?, ?it/s]"
            ]
          },
          "metadata": {},
          "output_type": "display_data"
        },
        {
          "data": {
            "application/vnd.jupyter.widget-view+json": {
              "model_id": "e8767318269f4951b4db7e453561d2e5",
              "version_major": 2,
              "version_minor": 0
            },
            "text/plain": [
              "Training:   0%|          | 0/200 [00:00<?, ?it/s]"
            ]
          },
          "metadata": {},
          "output_type": "display_data"
        },
        {
          "data": {
            "application/vnd.jupyter.widget-view+json": {
              "model_id": "74de875bd91e49138315005530017b1a",
              "version_major": 2,
              "version_minor": 0
            },
            "text/plain": [
              "Training:   0%|          | 0/200 [00:00<?, ?it/s]"
            ]
          },
          "metadata": {},
          "output_type": "display_data"
        },
        {
          "name": "stdout",
          "output_type": "stream",
          "text": [
            "Epoch: 41 | Epoch Time: 0m 13s\n",
            "\tTrain Loss: 38.211\n",
            "\t Val. Loss: 37.880\n",
            "\n"
          ]
        },
        {
          "data": {
            "application/vnd.jupyter.widget-view+json": {
              "model_id": "bfd250e357a54477a48f2a5e3146d8b4",
              "version_major": 2,
              "version_minor": 0
            },
            "text/plain": [
              "Training:   0%|          | 0/200 [00:00<?, ?it/s]"
            ]
          },
          "metadata": {},
          "output_type": "display_data"
        },
        {
          "data": {
            "application/vnd.jupyter.widget-view+json": {
              "model_id": "44cd3b9ddb8240e0a81ccbcce55fbdf7",
              "version_major": 2,
              "version_minor": 0
            },
            "text/plain": [
              "Training:   0%|          | 0/200 [00:00<?, ?it/s]"
            ]
          },
          "metadata": {},
          "output_type": "display_data"
        },
        {
          "data": {
            "application/vnd.jupyter.widget-view+json": {
              "model_id": "a80d7df3052544b3b6a9da59ec8867a3",
              "version_major": 2,
              "version_minor": 0
            },
            "text/plain": [
              "Training:   0%|          | 0/200 [00:00<?, ?it/s]"
            ]
          },
          "metadata": {},
          "output_type": "display_data"
        },
        {
          "data": {
            "application/vnd.jupyter.widget-view+json": {
              "model_id": "77cf45606fc8443da35f2c8d945c533f",
              "version_major": 2,
              "version_minor": 0
            },
            "text/plain": [
              "Training:   0%|          | 0/200 [00:00<?, ?it/s]"
            ]
          },
          "metadata": {},
          "output_type": "display_data"
        },
        {
          "data": {
            "application/vnd.jupyter.widget-view+json": {
              "model_id": "c03802a5f50c4d4da153ef1efa7189f8",
              "version_major": 2,
              "version_minor": 0
            },
            "text/plain": [
              "Training:   0%|          | 0/200 [00:00<?, ?it/s]"
            ]
          },
          "metadata": {},
          "output_type": "display_data"
        },
        {
          "data": {
            "application/vnd.jupyter.widget-view+json": {
              "model_id": "9721b8e0983e41b0a96c16cc1616ab72",
              "version_major": 2,
              "version_minor": 0
            },
            "text/plain": [
              "Training:   0%|          | 0/200 [00:00<?, ?it/s]"
            ]
          },
          "metadata": {},
          "output_type": "display_data"
        },
        {
          "data": {
            "application/vnd.jupyter.widget-view+json": {
              "model_id": "2e7389db293e46339c62d5319934fffa",
              "version_major": 2,
              "version_minor": 0
            },
            "text/plain": [
              "Training:   0%|          | 0/200 [00:00<?, ?it/s]"
            ]
          },
          "metadata": {},
          "output_type": "display_data"
        },
        {
          "data": {
            "application/vnd.jupyter.widget-view+json": {
              "model_id": "984beaa18bdd4637aa558fcc6c46d699",
              "version_major": 2,
              "version_minor": 0
            },
            "text/plain": [
              "Training:   0%|          | 0/200 [00:00<?, ?it/s]"
            ]
          },
          "metadata": {},
          "output_type": "display_data"
        },
        {
          "data": {
            "application/vnd.jupyter.widget-view+json": {
              "model_id": "519cbebabc49499d80333f2b9a08763a",
              "version_major": 2,
              "version_minor": 0
            },
            "text/plain": [
              "Training:   0%|          | 0/200 [00:00<?, ?it/s]"
            ]
          },
          "metadata": {},
          "output_type": "display_data"
        },
        {
          "data": {
            "application/vnd.jupyter.widget-view+json": {
              "model_id": "a1c85374302441d3b022b66967cfeef3",
              "version_major": 2,
              "version_minor": 0
            },
            "text/plain": [
              "Training:   0%|          | 0/200 [00:00<?, ?it/s]"
            ]
          },
          "metadata": {},
          "output_type": "display_data"
        },
        {
          "name": "stdout",
          "output_type": "stream",
          "text": [
            "Epoch: 51 | Epoch Time: 0m 12s\n",
            "\tTrain Loss: 37.550\n",
            "\t Val. Loss: 37.120\n",
            "\n"
          ]
        },
        {
          "data": {
            "application/vnd.jupyter.widget-view+json": {
              "model_id": "e57931c844794a0b92dc6a8f1a087f34",
              "version_major": 2,
              "version_minor": 0
            },
            "text/plain": [
              "Training:   0%|          | 0/200 [00:00<?, ?it/s]"
            ]
          },
          "metadata": {},
          "output_type": "display_data"
        },
        {
          "data": {
            "application/vnd.jupyter.widget-view+json": {
              "model_id": "91d58a3ce9804adfa4625d0a7ccee90b",
              "version_major": 2,
              "version_minor": 0
            },
            "text/plain": [
              "Training:   0%|          | 0/200 [00:00<?, ?it/s]"
            ]
          },
          "metadata": {},
          "output_type": "display_data"
        },
        {
          "data": {
            "application/vnd.jupyter.widget-view+json": {
              "model_id": "73194964375449ea80b44f6b126cb25f",
              "version_major": 2,
              "version_minor": 0
            },
            "text/plain": [
              "Training:   0%|          | 0/200 [00:00<?, ?it/s]"
            ]
          },
          "metadata": {},
          "output_type": "display_data"
        },
        {
          "data": {
            "application/vnd.jupyter.widget-view+json": {
              "model_id": "f644fac7c3bf40de956031e72ae037e1",
              "version_major": 2,
              "version_minor": 0
            },
            "text/plain": [
              "Training:   0%|          | 0/200 [00:00<?, ?it/s]"
            ]
          },
          "metadata": {},
          "output_type": "display_data"
        },
        {
          "data": {
            "application/vnd.jupyter.widget-view+json": {
              "model_id": "1018d8c2ca5e401a998cd78958fa42a6",
              "version_major": 2,
              "version_minor": 0
            },
            "text/plain": [
              "Training:   0%|          | 0/200 [00:00<?, ?it/s]"
            ]
          },
          "metadata": {},
          "output_type": "display_data"
        },
        {
          "data": {
            "application/vnd.jupyter.widget-view+json": {
              "model_id": "75f6d5fc9f1847629bdf5ec371c2849a",
              "version_major": 2,
              "version_minor": 0
            },
            "text/plain": [
              "Training:   0%|          | 0/200 [00:00<?, ?it/s]"
            ]
          },
          "metadata": {},
          "output_type": "display_data"
        },
        {
          "data": {
            "application/vnd.jupyter.widget-view+json": {
              "model_id": "972e50182713488b99e86e61b7176c0a",
              "version_major": 2,
              "version_minor": 0
            },
            "text/plain": [
              "Training:   0%|          | 0/200 [00:00<?, ?it/s]"
            ]
          },
          "metadata": {},
          "output_type": "display_data"
        },
        {
          "data": {
            "application/vnd.jupyter.widget-view+json": {
              "model_id": "1d67fdcf5b2949e5b398a369f9215958",
              "version_major": 2,
              "version_minor": 0
            },
            "text/plain": [
              "Training:   0%|          | 0/200 [00:00<?, ?it/s]"
            ]
          },
          "metadata": {},
          "output_type": "display_data"
        },
        {
          "data": {
            "application/vnd.jupyter.widget-view+json": {
              "model_id": "304e7983bbb043a384b1f595a7fbb8e7",
              "version_major": 2,
              "version_minor": 0
            },
            "text/plain": [
              "Training:   0%|          | 0/200 [00:00<?, ?it/s]"
            ]
          },
          "metadata": {},
          "output_type": "display_data"
        },
        {
          "data": {
            "application/vnd.jupyter.widget-view+json": {
              "model_id": "06919150f23d4a6c922db4496f9abf48",
              "version_major": 2,
              "version_minor": 0
            },
            "text/plain": [
              "Training:   0%|          | 0/200 [00:00<?, ?it/s]"
            ]
          },
          "metadata": {},
          "output_type": "display_data"
        },
        {
          "name": "stdout",
          "output_type": "stream",
          "text": [
            "Epoch: 61 | Epoch Time: 0m 12s\n",
            "\tTrain Loss: 37.169\n",
            "\t Val. Loss: 37.075\n",
            "\n"
          ]
        },
        {
          "data": {
            "application/vnd.jupyter.widget-view+json": {
              "model_id": "129c85f419844cc9870ca6061a33cdb5",
              "version_major": 2,
              "version_minor": 0
            },
            "text/plain": [
              "Training:   0%|          | 0/200 [00:00<?, ?it/s]"
            ]
          },
          "metadata": {},
          "output_type": "display_data"
        },
        {
          "data": {
            "application/vnd.jupyter.widget-view+json": {
              "model_id": "c60b6bd1d4694336a08c8df34accb802",
              "version_major": 2,
              "version_minor": 0
            },
            "text/plain": [
              "Training:   0%|          | 0/200 [00:00<?, ?it/s]"
            ]
          },
          "metadata": {},
          "output_type": "display_data"
        },
        {
          "data": {
            "application/vnd.jupyter.widget-view+json": {
              "model_id": "08ec63018e614cad801a47270d3a74df",
              "version_major": 2,
              "version_minor": 0
            },
            "text/plain": [
              "Training:   0%|          | 0/200 [00:00<?, ?it/s]"
            ]
          },
          "metadata": {},
          "output_type": "display_data"
        },
        {
          "data": {
            "application/vnd.jupyter.widget-view+json": {
              "model_id": "b05debd26e35466cac9e63e570ab6377",
              "version_major": 2,
              "version_minor": 0
            },
            "text/plain": [
              "Training:   0%|          | 0/200 [00:00<?, ?it/s]"
            ]
          },
          "metadata": {},
          "output_type": "display_data"
        },
        {
          "data": {
            "application/vnd.jupyter.widget-view+json": {
              "model_id": "5099adb9ced047f5998a4d9125e047f3",
              "version_major": 2,
              "version_minor": 0
            },
            "text/plain": [
              "Training:   0%|          | 0/200 [00:00<?, ?it/s]"
            ]
          },
          "metadata": {},
          "output_type": "display_data"
        },
        {
          "data": {
            "application/vnd.jupyter.widget-view+json": {
              "model_id": "2ae0caa9e8774d5e885cd7e45a32c360",
              "version_major": 2,
              "version_minor": 0
            },
            "text/plain": [
              "Training:   0%|          | 0/200 [00:00<?, ?it/s]"
            ]
          },
          "metadata": {},
          "output_type": "display_data"
        },
        {
          "data": {
            "application/vnd.jupyter.widget-view+json": {
              "model_id": "d3101da356e9446f9991612cadde2b82",
              "version_major": 2,
              "version_minor": 0
            },
            "text/plain": [
              "Training:   0%|          | 0/200 [00:00<?, ?it/s]"
            ]
          },
          "metadata": {},
          "output_type": "display_data"
        },
        {
          "data": {
            "application/vnd.jupyter.widget-view+json": {
              "model_id": "6266a8ac625143708858b76a7ec4440a",
              "version_major": 2,
              "version_minor": 0
            },
            "text/plain": [
              "Training:   0%|          | 0/200 [00:00<?, ?it/s]"
            ]
          },
          "metadata": {},
          "output_type": "display_data"
        },
        {
          "data": {
            "application/vnd.jupyter.widget-view+json": {
              "model_id": "11d7aff476084a3898b1ba0a24cc2bdf",
              "version_major": 2,
              "version_minor": 0
            },
            "text/plain": [
              "Training:   0%|          | 0/200 [00:00<?, ?it/s]"
            ]
          },
          "metadata": {},
          "output_type": "display_data"
        },
        {
          "data": {
            "application/vnd.jupyter.widget-view+json": {
              "model_id": "57381a0ffe834693aca76348c07b4e04",
              "version_major": 2,
              "version_minor": 0
            },
            "text/plain": [
              "Training:   0%|          | 0/200 [00:00<?, ?it/s]"
            ]
          },
          "metadata": {},
          "output_type": "display_data"
        },
        {
          "name": "stdout",
          "output_type": "stream",
          "text": [
            "Epoch: 71 | Epoch Time: 0m 12s\n",
            "\tTrain Loss: 36.750\n",
            "\t Val. Loss: 36.331\n",
            "\n"
          ]
        },
        {
          "data": {
            "application/vnd.jupyter.widget-view+json": {
              "model_id": "54cd76543b024162bbe4824a4a19637b",
              "version_major": 2,
              "version_minor": 0
            },
            "text/plain": [
              "Training:   0%|          | 0/200 [00:00<?, ?it/s]"
            ]
          },
          "metadata": {},
          "output_type": "display_data"
        },
        {
          "data": {
            "application/vnd.jupyter.widget-view+json": {
              "model_id": "a1b1b3b7fc4746399a8ac9cf6c6b1313",
              "version_major": 2,
              "version_minor": 0
            },
            "text/plain": [
              "Training:   0%|          | 0/200 [00:00<?, ?it/s]"
            ]
          },
          "metadata": {},
          "output_type": "display_data"
        },
        {
          "data": {
            "application/vnd.jupyter.widget-view+json": {
              "model_id": "66644c92de6d4b6cb5045a51d145a383",
              "version_major": 2,
              "version_minor": 0
            },
            "text/plain": [
              "Training:   0%|          | 0/200 [00:00<?, ?it/s]"
            ]
          },
          "metadata": {},
          "output_type": "display_data"
        },
        {
          "data": {
            "application/vnd.jupyter.widget-view+json": {
              "model_id": "2ce15985f90c46ec8ee6d2eea62e1e0d",
              "version_major": 2,
              "version_minor": 0
            },
            "text/plain": [
              "Training:   0%|          | 0/200 [00:00<?, ?it/s]"
            ]
          },
          "metadata": {},
          "output_type": "display_data"
        },
        {
          "data": {
            "application/vnd.jupyter.widget-view+json": {
              "model_id": "d8f133b124014e8ea9b3786a23411b7a",
              "version_major": 2,
              "version_minor": 0
            },
            "text/plain": [
              "Training:   0%|          | 0/200 [00:00<?, ?it/s]"
            ]
          },
          "metadata": {},
          "output_type": "display_data"
        },
        {
          "data": {
            "application/vnd.jupyter.widget-view+json": {
              "model_id": "98ee9c973b9842d998aba352b1b376fd",
              "version_major": 2,
              "version_minor": 0
            },
            "text/plain": [
              "Training:   0%|          | 0/200 [00:00<?, ?it/s]"
            ]
          },
          "metadata": {},
          "output_type": "display_data"
        },
        {
          "data": {
            "application/vnd.jupyter.widget-view+json": {
              "model_id": "6b6cad8041154663a7124b79aa040098",
              "version_major": 2,
              "version_minor": 0
            },
            "text/plain": [
              "Training:   0%|          | 0/200 [00:00<?, ?it/s]"
            ]
          },
          "metadata": {},
          "output_type": "display_data"
        },
        {
          "data": {
            "application/vnd.jupyter.widget-view+json": {
              "model_id": "4560d91c641243c8abd2dd8ae5a88006",
              "version_major": 2,
              "version_minor": 0
            },
            "text/plain": [
              "Training:   0%|          | 0/200 [00:00<?, ?it/s]"
            ]
          },
          "metadata": {},
          "output_type": "display_data"
        },
        {
          "data": {
            "application/vnd.jupyter.widget-view+json": {
              "model_id": "af1577c377774c459cc4949f4d79bf51",
              "version_major": 2,
              "version_minor": 0
            },
            "text/plain": [
              "Training:   0%|          | 0/200 [00:00<?, ?it/s]"
            ]
          },
          "metadata": {},
          "output_type": "display_data"
        },
        {
          "data": {
            "application/vnd.jupyter.widget-view+json": {
              "model_id": "7f9a9d94d66b4e9a8c2457ef3a85da64",
              "version_major": 2,
              "version_minor": 0
            },
            "text/plain": [
              "Training:   0%|          | 0/200 [00:00<?, ?it/s]"
            ]
          },
          "metadata": {},
          "output_type": "display_data"
        },
        {
          "name": "stdout",
          "output_type": "stream",
          "text": [
            "Epoch: 81 | Epoch Time: 0m 12s\n",
            "\tTrain Loss: 36.679\n",
            "\t Val. Loss: 36.522\n",
            "\n"
          ]
        },
        {
          "data": {
            "application/vnd.jupyter.widget-view+json": {
              "model_id": "89502a9c36be41fca0eeb054ce79a3da",
              "version_major": 2,
              "version_minor": 0
            },
            "text/plain": [
              "Training:   0%|          | 0/200 [00:00<?, ?it/s]"
            ]
          },
          "metadata": {},
          "output_type": "display_data"
        },
        {
          "data": {
            "application/vnd.jupyter.widget-view+json": {
              "model_id": "d838f711c09c42adb59669aa13065186",
              "version_major": 2,
              "version_minor": 0
            },
            "text/plain": [
              "Training:   0%|          | 0/200 [00:00<?, ?it/s]"
            ]
          },
          "metadata": {},
          "output_type": "display_data"
        },
        {
          "data": {
            "application/vnd.jupyter.widget-view+json": {
              "model_id": "4ac78092cfdd4369b3315bb60596df46",
              "version_major": 2,
              "version_minor": 0
            },
            "text/plain": [
              "Training:   0%|          | 0/200 [00:00<?, ?it/s]"
            ]
          },
          "metadata": {},
          "output_type": "display_data"
        },
        {
          "data": {
            "application/vnd.jupyter.widget-view+json": {
              "model_id": "d120cb6447354eacb29b896cdc886175",
              "version_major": 2,
              "version_minor": 0
            },
            "text/plain": [
              "Training:   0%|          | 0/200 [00:00<?, ?it/s]"
            ]
          },
          "metadata": {},
          "output_type": "display_data"
        },
        {
          "data": {
            "application/vnd.jupyter.widget-view+json": {
              "model_id": "f641399f61e543329adc87c0dc9aec50",
              "version_major": 2,
              "version_minor": 0
            },
            "text/plain": [
              "Training:   0%|          | 0/200 [00:00<?, ?it/s]"
            ]
          },
          "metadata": {},
          "output_type": "display_data"
        },
        {
          "data": {
            "application/vnd.jupyter.widget-view+json": {
              "model_id": "e60a10b357964edfbb7ee840beea1091",
              "version_major": 2,
              "version_minor": 0
            },
            "text/plain": [
              "Training:   0%|          | 0/200 [00:00<?, ?it/s]"
            ]
          },
          "metadata": {},
          "output_type": "display_data"
        },
        {
          "data": {
            "application/vnd.jupyter.widget-view+json": {
              "model_id": "df523d430fdd4de8874fe713ba3dc04a",
              "version_major": 2,
              "version_minor": 0
            },
            "text/plain": [
              "Training:   0%|          | 0/200 [00:00<?, ?it/s]"
            ]
          },
          "metadata": {},
          "output_type": "display_data"
        },
        {
          "data": {
            "application/vnd.jupyter.widget-view+json": {
              "model_id": "df473500690442d49faf2889e413273b",
              "version_major": 2,
              "version_minor": 0
            },
            "text/plain": [
              "Training:   0%|          | 0/200 [00:00<?, ?it/s]"
            ]
          },
          "metadata": {},
          "output_type": "display_data"
        },
        {
          "data": {
            "application/vnd.jupyter.widget-view+json": {
              "model_id": "14eb0f3984d34380a7ac76312a93829a",
              "version_major": 2,
              "version_minor": 0
            },
            "text/plain": [
              "Training:   0%|          | 0/200 [00:00<?, ?it/s]"
            ]
          },
          "metadata": {},
          "output_type": "display_data"
        },
        {
          "data": {
            "application/vnd.jupyter.widget-view+json": {
              "model_id": "dbe196bcc361432bbaa230eb400133ff",
              "version_major": 2,
              "version_minor": 0
            },
            "text/plain": [
              "Training:   0%|          | 0/200 [00:00<?, ?it/s]"
            ]
          },
          "metadata": {},
          "output_type": "display_data"
        },
        {
          "name": "stdout",
          "output_type": "stream",
          "text": [
            "Epoch: 91 | Epoch Time: 0m 12s\n",
            "\tTrain Loss: 36.698\n",
            "\t Val. Loss: 36.329\n",
            "\n"
          ]
        },
        {
          "data": {
            "application/vnd.jupyter.widget-view+json": {
              "model_id": "b7c8c8e999234048a748205b57f1791f",
              "version_major": 2,
              "version_minor": 0
            },
            "text/plain": [
              "Training:   0%|          | 0/200 [00:00<?, ?it/s]"
            ]
          },
          "metadata": {},
          "output_type": "display_data"
        },
        {
          "data": {
            "application/vnd.jupyter.widget-view+json": {
              "model_id": "d431ccc918e243ddafde4c34331ceda5",
              "version_major": 2,
              "version_minor": 0
            },
            "text/plain": [
              "Training:   0%|          | 0/200 [00:00<?, ?it/s]"
            ]
          },
          "metadata": {},
          "output_type": "display_data"
        },
        {
          "data": {
            "application/vnd.jupyter.widget-view+json": {
              "model_id": "fa27edabc78c40dfb162fa7392dea3ea",
              "version_major": 2,
              "version_minor": 0
            },
            "text/plain": [
              "Training:   0%|          | 0/200 [00:00<?, ?it/s]"
            ]
          },
          "metadata": {},
          "output_type": "display_data"
        },
        {
          "data": {
            "application/vnd.jupyter.widget-view+json": {
              "model_id": "8c095be1a1c34b08aaa159dcc10b82c8",
              "version_major": 2,
              "version_minor": 0
            },
            "text/plain": [
              "Training:   0%|          | 0/200 [00:00<?, ?it/s]"
            ]
          },
          "metadata": {},
          "output_type": "display_data"
        },
        {
          "data": {
            "application/vnd.jupyter.widget-view+json": {
              "model_id": "c56af7f63bfc47c1a8ffc8bd04bbb56d",
              "version_major": 2,
              "version_minor": 0
            },
            "text/plain": [
              "Training:   0%|          | 0/200 [00:00<?, ?it/s]"
            ]
          },
          "metadata": {},
          "output_type": "display_data"
        },
        {
          "data": {
            "application/vnd.jupyter.widget-view+json": {
              "model_id": "180a1410b02c4ea89d18d8340ecbedfb",
              "version_major": 2,
              "version_minor": 0
            },
            "text/plain": [
              "Training:   0%|          | 0/200 [00:00<?, ?it/s]"
            ]
          },
          "metadata": {},
          "output_type": "display_data"
        },
        {
          "data": {
            "application/vnd.jupyter.widget-view+json": {
              "model_id": "9050b07886c64d2ba16a8b57a08085c5",
              "version_major": 2,
              "version_minor": 0
            },
            "text/plain": [
              "Training:   0%|          | 0/200 [00:00<?, ?it/s]"
            ]
          },
          "metadata": {},
          "output_type": "display_data"
        },
        {
          "data": {
            "application/vnd.jupyter.widget-view+json": {
              "model_id": "6ba2a658b0224eb188dac18547036ec0",
              "version_major": 2,
              "version_minor": 0
            },
            "text/plain": [
              "Training:   0%|          | 0/200 [00:00<?, ?it/s]"
            ]
          },
          "metadata": {},
          "output_type": "display_data"
        },
        {
          "data": {
            "application/vnd.jupyter.widget-view+json": {
              "model_id": "b6695946a39643da9cf04eb178de85b9",
              "version_major": 2,
              "version_minor": 0
            },
            "text/plain": [
              "Training:   0%|          | 0/200 [00:00<?, ?it/s]"
            ]
          },
          "metadata": {},
          "output_type": "display_data"
        },
        {
          "data": {
            "application/vnd.jupyter.widget-view+json": {
              "model_id": "0e18efc50c064d7280d63f2fc6d6392e",
              "version_major": 2,
              "version_minor": 0
            },
            "text/plain": [
              "Training:   0%|          | 0/200 [00:00<?, ?it/s]"
            ]
          },
          "metadata": {},
          "output_type": "display_data"
        },
        {
          "name": "stdout",
          "output_type": "stream",
          "text": [
            "Epoch: 101 | Epoch Time: 0m 12s\n",
            "\tTrain Loss: 36.732\n",
            "\t Val. Loss: 36.419\n",
            "\n"
          ]
        },
        {
          "data": {
            "application/vnd.jupyter.widget-view+json": {
              "model_id": "76ed4f6e64a243188a6ad694ae261cd9",
              "version_major": 2,
              "version_minor": 0
            },
            "text/plain": [
              "Training:   0%|          | 0/200 [00:00<?, ?it/s]"
            ]
          },
          "metadata": {},
          "output_type": "display_data"
        },
        {
          "data": {
            "application/vnd.jupyter.widget-view+json": {
              "model_id": "0aacd7c4066243f8b7ba3a3a6fd4e617",
              "version_major": 2,
              "version_minor": 0
            },
            "text/plain": [
              "Training:   0%|          | 0/200 [00:00<?, ?it/s]"
            ]
          },
          "metadata": {},
          "output_type": "display_data"
        }
      ],
      "source": [
        "TrainModel2(1000, 0.001, 42)"
      ]
    },
    {
      "cell_type": "code",
      "execution_count": 13,
      "id": "4e998482",
      "metadata": {},
      "outputs": [
        {
          "data": {
            "text/plain": [
              "208.78219104003907"
            ]
          },
          "execution_count": 13,
          "metadata": {},
          "output_type": "execute_result"
        }
      ],
      "source": [
        "checkpoint_path = f\"{path}/M_no_P_modified.pth\"\n",
        "predicted = []\n",
        "\n",
        "def test(model, loader, optimizer, device):\n",
        "    epoch_loss = 0.0\n",
        "    model.eval()\n",
        "\n",
        "    with torch.no_grad():\n",
        "        for (_,TD) in loader:\n",
        "\n",
        "            TD = TD.to(device).float()\n",
        "                # Prob = Prob.to(device).float()\n",
        "\n",
        "            optimizer.zero_grad()\n",
        "            pred = model(TD)\n",
        "            for i in pred:\n",
        "                predicted.append(i.detach().cpu().numpy())\n",
        "\n",
        "            loss= F.mse_loss(pred, TD)\n",
        "\n",
        "            epoch_loss += loss.item()\n",
        "            torch.cuda.empty_cache()\n",
        "\n",
        "        epoch_loss = epoch_loss/len(loader)\n",
        "    return epoch_loss\n",
        "\n",
        "\n",
        "device = torch.device('cuda' if torch.cuda.is_available() else 'cpu')\n",
        "model = VFAutoencoder().to(device)\n",
        "optimizer = torch.optim.Adam(model.parameters(), lr=0.0001)\n",
        "\n",
        "model.load_state_dict(torch.load(checkpoint_path, map_location=device))\n",
        "model.eval()\n",
        "\n",
        "\n",
        "test(model,data_loader,optimizer,device)"
      ]
    },
    {
      "cell_type": "code",
      "execution_count": 14,
      "id": "01d80b5c",
      "metadata": {
        "id": "01d80b5c",
        "outputId": "b804627f-13ad-4956-df1b-871120f9e8fe"
      },
      "outputs": [],
      "source": [
        "def write_list_to_csv(data, filename):\n",
        "    with open(filename, 'w', newline='') as csvfile:\n",
        "        writer = csv.writer(csvfile)\n",
        "        writer.writerows(data)\n",
        "\n",
        "list_of_lists = predicted\n",
        "\n",
        "csv_filename = f\"{path}/{N}_Mnp.csv\"\n",
        "\n",
        "write_list_to_csv(list_of_lists, csv_filename)"
      ]
    }
  ],
  "metadata": {
    "accelerator": "GPU",
    "colab": {
      "gpuType": "T4",
      "provenance": []
    },
    "kernelspec": {
      "display_name": "Python 3",
      "language": "python",
      "name": "python3"
    },
    "language_info": {
      "codemirror_mode": {
        "name": "ipython",
        "version": 3
      },
      "file_extension": ".py",
      "mimetype": "text/x-python",
      "name": "python",
      "nbconvert_exporter": "python",
      "pygments_lexer": "ipython3",
      "version": "3.11.9"
    }
  },
  "nbformat": 4,
  "nbformat_minor": 5
}
